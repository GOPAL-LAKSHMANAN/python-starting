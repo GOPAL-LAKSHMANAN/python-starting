{
 "cells": [
  {
   "cell_type": "code",
   "execution_count": 1,
   "id": "b2dcfd71-d40d-4cf2-bed3-d7ddec7fd695",
   "metadata": {},
   "outputs": [
    {
     "name": "stdout",
     "output_type": "stream",
     "text": [
      "hellow world\n"
     ]
    }
   ],
   "source": [
    "print('hellow world')"
   ]
  },
  {
   "cell_type": "code",
   "execution_count": null,
   "id": "7ba15f3f-bb0d-41cc-a870-7ddd2848277d",
   "metadata": {},
   "outputs": [],
   "source": []
  },
  {
   "cell_type": "code",
   "execution_count": 11,
   "id": "6c1bd3e0-a9e0-4a78-a5fe-38e50452b14e",
   "metadata": {},
   "outputs": [],
   "source": [
    "a=5-2+1 #(here a is variable used to call number)"
   ]
  },
  {
   "cell_type": "code",
   "execution_count": 12,
   "id": "eb47dda4-8332-4005-99ba-674010e30599",
   "metadata": {},
   "outputs": [
    {
     "data": {
      "text/plain": [
       "4"
      ]
     },
     "execution_count": 12,
     "metadata": {},
     "output_type": "execute_result"
    }
   ],
   "source": [
    "a"
   ]
  },
  {
   "cell_type": "code",
   "execution_count": 13,
   "id": "675e1723-48b8-4303-8aff-bfb4d6834267",
   "metadata": {},
   "outputs": [],
   "source": [
    "A=9"
   ]
  },
  {
   "cell_type": "code",
   "execution_count": 14,
   "id": "dad8be3c-1dca-4aeb-a553-5826e6818a71",
   "metadata": {},
   "outputs": [
    {
     "data": {
      "text/plain": [
       "9"
      ]
     },
     "execution_count": 14,
     "metadata": {},
     "output_type": "execute_result"
    }
   ],
   "source": [
    "A"
   ]
  },
  {
   "cell_type": "code",
   "execution_count": 16,
   "id": "b6f9ec46-6a1b-4eb4-b52a-c3588b3437e9",
   "metadata": {},
   "outputs": [],
   "source": [
    "my_int=3  ##(no space should be used in variable instered we can use special character)"
   ]
  },
  {
   "cell_type": "code",
   "execution_count": 17,
   "id": "7a6d3231-0fd3-4d47-9122-0d2e284998cd",
   "metadata": {},
   "outputs": [
    {
     "data": {
      "text/plain": [
       "3"
      ]
     },
     "execution_count": 17,
     "metadata": {},
     "output_type": "execute_result"
    }
   ],
   "source": [
    "my_int"
   ]
  },
  {
   "cell_type": "code",
   "execution_count": 18,
   "id": "336bf35b-5b78-42cc-ab0a-a7aaeecef686",
   "metadata": {},
   "outputs": [
    {
     "data": {
      "text/plain": [
       "4"
      ]
     },
     "execution_count": 18,
     "metadata": {},
     "output_type": "execute_result"
    }
   ],
   "source": [
    "a"
   ]
  },
  {
   "cell_type": "code",
   "execution_count": 19,
   "id": "61cc4a75-493f-4ba5-af41-5ad24aeb8d8e",
   "metadata": {},
   "outputs": [],
   "source": [
    "a=5 # variable update"
   ]
  },
  {
   "cell_type": "code",
   "execution_count": 20,
   "id": "dd893055-d613-4769-af42-b8739a0d9d75",
   "metadata": {},
   "outputs": [
    {
     "data": {
      "text/plain": [
       "5"
      ]
     },
     "execution_count": 20,
     "metadata": {},
     "output_type": "execute_result"
    }
   ],
   "source": [
    "a"
   ]
  },
  {
   "cell_type": "code",
   "execution_count": 21,
   "id": "da1da24c-50e6-4796-9b22-1dda8df98034",
   "metadata": {},
   "outputs": [
    {
     "data": {
      "text/plain": [
       "int"
      ]
     },
     "execution_count": 21,
     "metadata": {},
     "output_type": "execute_result"
    }
   ],
   "source": [
    "type(a)"
   ]
  },
  {
   "cell_type": "markdown",
   "id": "97810ee3-8985-4082-b0ae-9fafc50ae1fe",
   "metadata": {},
   "source": [
    "#string indexing"
   ]
  },
  {
   "cell_type": "code",
   "execution_count": 24,
   "id": "4f899aea-f00f-40e9-a46d-709f5c21e2b5",
   "metadata": {},
   "outputs": [],
   "source": [
    "s=\"python\""
   ]
  },
  {
   "cell_type": "code",
   "execution_count": 26,
   "id": "53d7ea21-7fbb-4455-aea6-7279eba4fdc4",
   "metadata": {},
   "outputs": [
    {
     "data": {
      "text/plain": [
       "'p'"
      ]
     },
     "execution_count": 26,
     "metadata": {},
     "output_type": "execute_result"
    }
   ],
   "source": [
    "s[0]"
   ]
  },
  {
   "cell_type": "code",
   "execution_count": 27,
   "id": "660706d4-e6e8-4b4c-a15a-4dff8ea5c67a",
   "metadata": {},
   "outputs": [
    {
     "data": {
      "text/plain": [
       "'yt'"
      ]
     },
     "execution_count": 27,
     "metadata": {},
     "output_type": "execute_result"
    }
   ],
   "source": [
    "s[1:3]"
   ]
  },
  {
   "cell_type": "code",
   "execution_count": 28,
   "id": "5d7951b0-5694-4b99-a377-7e9579d9b3ff",
   "metadata": {},
   "outputs": [
    {
     "data": {
      "text/plain": [
       "6"
      ]
     },
     "execution_count": 28,
     "metadata": {},
     "output_type": "execute_result"
    }
   ],
   "source": [
    "len(s)"
   ]
  },
  {
   "cell_type": "code",
   "execution_count": null,
   "id": "7df34fd4-0d56-4caf-92e0-b9b3ec4cf671",
   "metadata": {},
   "outputs": [],
   "source": [
    "## format string"
   ]
  },
  {
   "cell_type": "code",
   "execution_count": 9,
   "id": "61bedaa8-0ffd-4140-ae82-449b08023cfb",
   "metadata": {},
   "outputs": [
    {
     "name": "stdout",
     "output_type": "stream",
     "text": [
      "My name is gopal and I am 25 years old.\n"
     ]
    }
   ],
   "source": [
    "name = \"gopal\"\n",
    "age = 25\n",
    "message = \"My name is {} and I am {} years old.\".format(name, age)\n",
    "print(message)\n"
   ]
  },
  {
   "cell_type": "code",
   "execution_count": null,
   "id": "ec97e3f2-41d4-42aa-a136-8563997a6ff2",
   "metadata": {},
   "outputs": [],
   "source": [
    "# escape character"
   ]
  },
  {
   "cell_type": "code",
   "execution_count": 12,
   "id": "44d4ebc2-1a50-4a33-83d3-88ee6d20137e",
   "metadata": {},
   "outputs": [
    {
     "name": "stdout",
     "output_type": "stream",
     "text": [
      " i am gopal \n",
      ", i am learning data science\n"
     ]
    }
   ],
   "source": [
    "x= ' i am gopal \\n, i am learning data science'\n",
    "print(x)"
   ]
  },
  {
   "cell_type": "code",
   "execution_count": null,
   "id": "d71096bf-d9f6-4c6e-abfc-fc1f279ddfd1",
   "metadata": {},
   "outputs": [],
   "source": []
  }
 ],
 "metadata": {
  "kernelspec": {
   "display_name": "Python 3 (ipykernel)",
   "language": "python",
   "name": "python3"
  },
  "language_info": {
   "codemirror_mode": {
    "name": "ipython",
    "version": 3
   },
   "file_extension": ".py",
   "mimetype": "text/x-python",
   "name": "python",
   "nbconvert_exporter": "python",
   "pygments_lexer": "ipython3",
   "version": "3.12.0"
  }
 },
 "nbformat": 4,
 "nbformat_minor": 5
}
